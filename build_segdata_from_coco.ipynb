{
 "cells": [
  {
   "cell_type": "code",
   "execution_count": 30,
   "metadata": {
    "collapsed": false
   },
   "outputs": [],
   "source": [
    "from __future__ import absolute_import, division, print_function\n",
    "\n",
    "import sys\n",
    "import os\n",
    "import warnings\n",
    "\n",
    "import skimage.io\n",
    "import skimage.transform\n",
    "import numpy as np\n",
    "\n",
    "import pycocotools.coco\n",
    "import pycocotools.mask"
   ]
  },
  {
   "cell_type": "code",
   "execution_count": 31,
   "metadata": {
    "collapsed": true
   },
   "outputs": [],
   "source": [
    "import matplotlib.pyplot as plt\n",
    "%matplotlib inline"
   ]
  },
  {
   "cell_type": "code",
   "execution_count": 32,
   "metadata": {
    "collapsed": true
   },
   "outputs": [],
   "source": [
    "new_size = 512  # resize the images to have maximum size 512\n",
    "\n",
    "image_dir = '/home/ronghang/workspace/DATASETS/coco2014/images/val2014/'\n",
    "val_file = '/home/ronghang/workspace/DATASETS/coco2014/annotations/instances_val2014.json'\n",
    "save_image_dir = './coco_val_images/'\n",
    "save_label_dir = './coco_val_labels_png/'\n",
    "save_imlist = './data/coco_val.txt'"
   ]
  },
  {
   "cell_type": "code",
   "execution_count": 33,
   "metadata": {
    "collapsed": false
   },
   "outputs": [
    {
     "name": "stdout",
     "output_type": "stream",
     "text": [
      "loading annotations into memory...\n",
      "Done (t=10.93s)\n",
      "creating index...\n",
      "index created!\n"
     ]
    }
   ],
   "source": [
    "coco = pycocotools.coco.COCO(val_file)\n",
    "\n",
    "# Re-map COCO class ids to 1~80 (0 is preserved for background)\n",
    "coco_cls_ids = coco.getCatIds()\n",
    "cls_id_map = {coco_cls_ids[n_cls]:n_cls+1 for n_cls in xrange(len(coco_cls_ids))}"
   ]
  },
  {
   "cell_type": "code",
   "execution_count": 34,
   "metadata": {
    "collapsed": false
   },
   "outputs": [],
   "source": [
    "# all the image ids\n",
    "image_ids = coco.getImgIds()\n",
    "num_im = len(image_ids)"
   ]
  },
  {
   "cell_type": "code",
   "execution_count": 35,
   "metadata": {
    "collapsed": false
   },
   "outputs": [],
   "source": [
    "def resize_to_fixed_size(im, new_size):\n",
    "    # Resize and pad im to input_h x input_w size\n",
    "    im_h, im_w = im.shape[:2]\n",
    "    scale = min(new_size * 1.0 / im_h, new_size * 1.0 / im_w)\n",
    "    resized_h = int(np.round(im_h * scale))\n",
    "    resized_w = int(np.round(im_w * scale))\n",
    "\n",
    "    resized_im = skimage.transform.resize(im, [resized_h, resized_w])\n",
    "    return resized_im\n",
    "\n",
    "def segToMask(ann, height, width, new_size):\n",
    "    if type(ann['segmentation']) == list:\n",
    "        # polygon\n",
    "        rle = pycocotools.mask.frPyObjects(ann['segmentation'], height, width)\n",
    "    else:\n",
    "        # mask\n",
    "        if type(ann['segmentation']['counts']) == list:\n",
    "            # uncompressed RLE\n",
    "            rle = pycocotools.mask.frPyObjects([ann['segmentation']], height, width)\n",
    "        else:\n",
    "            # encoded RLE mask\n",
    "            rle = [ann['segmentation']]\n",
    "\n",
    "    m = pycocotools.mask.decode(rle)\n",
    "    m = np.sum(m, axis=2)  # sometimes there are multiple binary map (corresponding to multiple segs)\n",
    "    m = m.astype(np.bool) # convert to boolean\n",
    "    \n",
    "    m = resize_to_fixed_size(m, new_size) > 0\n",
    "    # compute area\n",
    "    return m"
   ]
  },
  {
   "cell_type": "code",
   "execution_count": 36,
   "metadata": {
    "collapsed": true
   },
   "outputs": [],
   "source": [
    "# Save the image list\n",
    "with open(save_imlist, 'w') as f:\n",
    "    for n in xrange(num_im):\n",
    "        image_id = image_ids[n]\n",
    "        iminfo = coco.loadImgs(image_id)[0]\n",
    "        f.write(iminfo['file_name'][:-4]+'\\n')"
   ]
  },
  {
   "cell_type": "code",
   "execution_count": 37,
   "metadata": {
    "collapsed": false,
    "scrolled": true
   },
   "outputs": [],
   "source": [
    "# Save resized images and labels\n",
    "if not os.path.isdir(save_image_dir): os.mkdir(save_image_dir)\n",
    "if not os.path.isdir(save_label_dir): os.mkdir(save_label_dir)\n",
    "warnings.simplefilter(\"ignore\")\n",
    "for n in xrange(num_im):\n",
    "    if n % 50 == 0: print('processing %d / %d' % (n, num_im))\n",
    "    image_id = image_ids[n]\n",
    "    iminfo = coco.loadImgs(image_id)[0]\n",
    "    \n",
    "    # Resize the image to new_size\n",
    "    im = skimage.io.imread(image_dir+iminfo['file_name'])\n",
    "    im = resize_to_fixed_size(im, new_size)\n",
    "    skimage.io.imsave(save_image_dir+iminfo['file_name'], im)\n",
    "    \n",
    "    # Load \n",
    "    labels = np.zeros((im.shape[0], im.shape[1]), dtype=np.uint8)\n",
    "    ann_ids = coco.getAnnIds(imgIds=image_id)\n",
    "    for ann_id in ann_ids:\n",
    "        ann = coco.loadAnns(ids=ann_id)[0]\n",
    "        cls_id = cls_id_map[ann['category_id']]\n",
    "        mask = segToMask(ann, iminfo['height'], iminfo['width'], new_size)\n",
    "        labels[mask] = cls_id\n",
    "    \n",
    "    skimage.io.imsave(save_label_dir+iminfo['file_name'][:-4]+'.png', labels)"
   ]
  }
 ],
 "metadata": {
  "kernelspec": {
   "display_name": "Python 2",
   "language": "python",
   "name": "python2"
  },
  "language_info": {
   "codemirror_mode": {
    "name": "ipython",
    "version": 2
   },
   "file_extension": ".py",
   "mimetype": "text/x-python",
   "name": "python",
   "nbconvert_exporter": "python",
   "pygments_lexer": "ipython2",
   "version": "2.7.11"
  }
 },
 "nbformat": 4,
 "nbformat_minor": 0
}
